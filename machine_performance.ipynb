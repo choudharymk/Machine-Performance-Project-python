{
 "cells": [
  {
   "cell_type": "code",
   "execution_count": 34,
   "metadata": {},
   "outputs": [],
   "source": [
    "import pandas as pd\n",
    "import math"
   ]
  },
  {
   "cell_type": "markdown",
   "metadata": {},
   "source": [
    "# Reading data from csv file"
   ]
  },
  {
   "cell_type": "code",
   "execution_count": 16,
   "metadata": {},
   "outputs": [],
   "source": [
    "data = pd.read_csv('machine_data_in_seconds.csv')"
   ]
  },
  {
   "cell_type": "markdown",
   "metadata": {},
   "source": [
    "# Preprocessing the data\n",
    "\n",
    "## changing data with difference from idle value and removing the idle value part\n",
    "## assigning processed data to new data frame"
   ]
  },
  {
   "cell_type": "code",
   "execution_count": 17,
   "metadata": {},
   "outputs": [],
   "source": [
    "data = data.iloc[:,1:] # data preprocessing"
   ]
  },
  {
   "cell_type": "code",
   "execution_count": 19,
   "metadata": {},
   "outputs": [],
   "source": [
    "new_data = pd.DataFrame()"
   ]
  },
  {
   "cell_type": "code",
   "execution_count": 20,
   "metadata": {},
   "outputs": [],
   "source": [
    "listOfMachines = list(data.columns)"
   ]
  },
  {
   "cell_type": "code",
   "execution_count": 22,
   "metadata": {},
   "outputs": [],
   "source": [
    "processed_data = {}\n",
    "for machine in listOfMachines[1:]:\n",
    "    processed_data[machine] = []"
   ]
  },
  {
   "cell_type": "code",
   "execution_count": 24,
   "metadata": {},
   "outputs": [],
   "source": [
    "for machine in listOfMachines[1:]:\n",
    "    for index in range(len(data)):\n",
    "        processed_data[machine].append(data.loc[index, listOfMachines[0]] - data.loc[index, machine])"
   ]
  },
  {
   "cell_type": "code",
   "execution_count": 26,
   "metadata": {},
   "outputs": [],
   "source": [
    "for machine in processed_data.keys():\n",
    "    new_data[machine] = processed_data[machine]"
   ]
  },
  {
   "cell_type": "markdown",
   "metadata": {},
   "source": [
    "# Calculation\n",
    "\n",
    "## mean of Machine1\n",
    "## mean of Machine2\n",
    "## standard deviation of Machine1"
   ]
  },
  {
   "cell_type": "code",
   "execution_count": 29,
   "metadata": {},
   "outputs": [],
   "source": [
    "# Comparing Machine1 and Machine2\n",
    "machine1_mean = new_data[\"Machine1\"].mean()\n",
    "machine2_mean = new_data[\"Machine2\"].mean()"
   ]
  },
  {
   "cell_type": "code",
   "execution_count": 33,
   "metadata": {},
   "outputs": [],
   "source": [
    "machine1_std = new_data[\"Machine1\"].std()"
   ]
  },
  {
   "cell_type": "markdown",
   "metadata": {},
   "source": [
    "# z test (for Machine1 & Machine2)\n",
    "\n",
    "## Formula:\n",
    "### Z = (input_data_mean - mean_of_population)/(standard_deviation_of_population/sqrt(no_of_population))\n",
    "\n",
    "## H0: Machine1 has greater performance than Machine2\n",
    "\n",
    "## H0: mean(m2) < mean(m1)\n",
    "\n",
    "## H1: mean(m2) > mean(m1)"
   ]
  },
  {
   "cell_type": "code",
   "execution_count": 36,
   "metadata": {},
   "outputs": [],
   "source": [
    "z_value = (machine2_mean - machine1_mean)/(machine1_std/math.sqrt(len(new_data[\"Machine1\"])))"
   ]
  },
  {
   "cell_type": "code",
   "execution_count": 38,
   "metadata": {},
   "outputs": [
    {
     "name": "stdout",
     "output_type": "stream",
     "text": [
      "Machine2 has greater performance than Machine1\n"
     ]
    }
   ],
   "source": [
    "if abs(z_value) < 1.64:\n",
    "    print(\"Machine2 has greater performance than Machine1\") # Rejecting null hypothesis\n",
    "else:\n",
    "    print(\"Machine1 has greater performance than Machine1\") # Accepting null hypothesis"
   ]
  },
  {
   "cell_type": "code",
   "execution_count": null,
   "metadata": {},
   "outputs": [],
   "source": []
  }
 ],
 "metadata": {
  "kernelspec": {
   "display_name": "Python 3",
   "language": "python",
   "name": "python3"
  },
  "language_info": {
   "codemirror_mode": {
    "name": "ipython",
    "version": 3
   },
   "file_extension": ".py",
   "mimetype": "text/x-python",
   "name": "python",
   "nbconvert_exporter": "python",
   "pygments_lexer": "ipython3",
   "version": "3.6.5"
  }
 },
 "nbformat": 4,
 "nbformat_minor": 2
}
